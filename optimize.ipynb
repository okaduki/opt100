{
 "cells": [
  {
   "cell_type": "markdown",
   "metadata": {},
   "source": [
    "# 最適化問題"
   ]
  },
  {
   "cell_type": "code",
   "execution_count": 1,
   "metadata": {},
   "outputs": [],
   "source": [
    "from mip import *"
   ]
  },
  {
   "cell_type": "markdown",
   "metadata": {},
   "source": [
    "## 1. 線形最適化問題"
   ]
  },
  {
   "cell_type": "code",
   "execution_count": 2,
   "metadata": {},
   "outputs": [],
   "source": [
    "m = Model(sense=MAXIMIZE, solver_name=CBC)"
   ]
  },
  {
   "cell_type": "code",
   "execution_count": 3,
   "metadata": {},
   "outputs": [],
   "source": [
    "x1 = m.add_var(name='x1')\n",
    "x2 = m.add_var(name='x2')"
   ]
  },
  {
   "cell_type": "code",
   "execution_count": 4,
   "metadata": {},
   "outputs": [],
   "source": [
    "m += (2 * x1 + x2 <= 60)\n",
    "m += (x1 + 2 * x2 <= 60)"
   ]
  },
  {
   "cell_type": "code",
   "execution_count": 5,
   "metadata": {},
   "outputs": [],
   "source": [
    "m.objective = maximize(15 * x1 + 18 * x2)"
   ]
  },
  {
   "cell_type": "code",
   "execution_count": 6,
   "metadata": {},
   "outputs": [
    {
     "name": "stdout",
     "output_type": "stream",
     "text": [
      "Welcome to the CBC MILP Solver \n",
      "Version: Trunk\n",
      "Build Date: Oct 24 2021 \n",
      "\n",
      "Starting solution of the Linear programming problem using Primal Simplex\n",
      "\n",
      "Coin0506I Presolve 2 (0) rows, 2 (0) columns and 4 (0) elements\n",
      "Clp1000I sum of infeasibilities 0 - average 0, 0 fixed columns\n",
      "Coin0506I Presolve 2 (0) rows, 2 (0) columns and 4 (0) elements\n",
      "Clp0029I End of values pass after 2 iterations\n",
      "Clp0000I Optimal - objective value 660\n",
      "Clp0000I Optimal - objective value 660\n",
      "Clp0000I Optimal - objective value 660\n",
      "Clp0032I Optimal objective 660 - 0 iterations time 0.002, Idiot 0.00\n"
     ]
    },
    {
     "data": {
      "text/plain": [
       "<OptimizationStatus.OPTIMAL: 0>"
      ]
     },
     "execution_count": 6,
     "metadata": {},
     "output_type": "execute_result"
    }
   ],
   "source": [
    "status = m.optimize(max_seconds=10)\n",
    "status"
   ]
  },
  {
   "cell_type": "code",
   "execution_count": 7,
   "metadata": {},
   "outputs": [
    {
     "name": "stdout",
     "output_type": "stream",
     "text": [
      "optimal cost 660.0\n",
      "x1 20.0\n",
      "x2 20.0\n"
     ]
    }
   ],
   "source": [
    "if status == OptimizationStatus.OPTIMAL:\n",
    "  print(f'optimal cost {m.objective_value}')\n",
    "  for v in m.vars:\n",
    "    print(f'{v.name} {v.x}')\n",
    "elif status == OptimizationStatus.FEASIBLE:\n",
    "  print(f'feasible cost {m.objective_value}, best possible {m.objective_bound}')\n",
    "  for v in m.vars:\n",
    "    print(f'{v.name} {v.x}')\n",
    "elif status == OptimizationStatus.NO_SOLUTION_FOUND:\n",
    "  print('no feasible')\n",
    "else:\n",
    "  print('unknown')\n"
   ]
  },
  {
   "cell_type": "markdown",
   "metadata": {},
   "source": [
    "## 2. 錐最適化問題"
   ]
  },
  {
   "cell_type": "code",
   "execution_count": 8,
   "metadata": {},
   "outputs": [
    {
     "name": "stdout",
     "output_type": "stream",
     "text": [
      "(CVXPY) Nov 12 11:05:49 PM: Encountered unexpected exception importing solver GLOP:\n",
      "RuntimeError('Unrecognized new version of ortools (9.10.4067). Expected < 9.10.0. Please open a feature request on cvxpy to enable support for this version.')\n",
      "(CVXPY) Nov 12 11:05:49 PM: Encountered unexpected exception importing solver PDLP:\n",
      "RuntimeError('Unrecognized new version of ortools (9.10.4067). Expected < 9.10.0. Please open a feature request on cvxpy to enable support for this version.')\n"
     ]
    }
   ],
   "source": [
    "import scipy\n",
    "import scs\n",
    "import numpy as np\n",
    "import cvxpy as cp"
   ]
  },
  {
   "cell_type": "code",
   "execution_count": 9,
   "metadata": {},
   "outputs": [
    {
     "name": "stdout",
     "output_type": "stream",
     "text": [
      "------------------------------------------------------------------\n",
      "\t       SCS v3.2.7 - Splitting Conic Solver\n",
      "\t(c) Brendan O'Donoghue, Stanford University, 2012\n",
      "------------------------------------------------------------------\n",
      "problem:  variables n: 3, constraints m: 5\n",
      "cones: \t  l: linear vars: 4\n",
      "\t  q: soc vars: 1, qsize: 1\n",
      "settings: eps_abs: 1.0e-09, eps_rel: 1.0e-09, eps_infeas: 1.0e-07\n",
      "\t  alpha: 1.50, scale: 1.00e-01, adaptive_scale: 1\n",
      "\t  max_iters: 100000, normalize: 1, rho_x: 1.00e-06\n",
      "\t  acceleration_lookback: 10, acceleration_interval: 10\n",
      "lin-sys:  sparse-direct-amd-qdldl\n",
      "\t  nnz(A): 9, nnz(P): 0\n",
      "------------------------------------------------------------------\n",
      " iter | pri res | dua res |   gap   |   obj   |  scale  | time (s)\n",
      "------------------------------------------------------------------\n",
      "     0| 4.24e+01  8.34e-01  3.21e+01 -2.10e+01  1.00e-01  2.69e-03 \n",
      "   125| 1.37e-10  1.14e-11  1.06e-12 -5.00e+00  1.00e-01  4.06e-03 \n",
      "------------------------------------------------------------------\n",
      "status:  solved\n",
      "timings: total: 4.06e-03s = setup: 1.95e-03s + solve: 2.11e-03s\n",
      "\t lin-sys: 1.26e-05s, cones: 5.26e-06s, accel: 1.30e-03s\n",
      "------------------------------------------------------------------\n",
      "objective = -5.000000\n",
      "------------------------------------------------------------------\n",
      "SCS took 125 iters\n",
      "Objective :5.000000000019056\n",
      "Optimal solution vector x*:\n",
      "[ 1.66666667e+00  1.66666667e+00 -9.16993289e-12]\n",
      "Optimal dual vector y*:\n",
      "[0.  0.  0.5 0.5 1. ]\n"
     ]
    }
   ],
   "source": [
    "# Set up the problem data\n",
    "P = scipy.sparse.csc_matrix([\n",
    "  [0., 0., 0.],\n",
    "  [0., 0., 0.],\n",
    "  [0., 0., 0.]])\n",
    "c = np.array([-1., -2., -2.]) # minimize\n",
    "A = scipy.sparse.csc_matrix(\n",
    "  [[-1. , 0., 0.],\n",
    "   [0. , -1., 0.],\n",
    "   [0. , 0., -1.],\n",
    "   [4. , 2., 3.],\n",
    "   [-1. , 1., 1.],\n",
    "  ])\n",
    "b = np.array([0., 0., 0., 10., 0.])\n",
    "\n",
    "# Populate dicts with data to pass into SCS\n",
    "data = dict(P=P, A=A, b=b, c=c)\n",
    "cone = dict(l=4, q=[1], )\n",
    "\n",
    "# Initialize solver\n",
    "solver = scs.SCS(data, cone, eps_abs=1e-9, eps_rel=1e-9, verbose=True)\n",
    "# Solve!\n",
    "sol = solver.solve()\n",
    "\n",
    "print(f\"SCS took {sol['info']['iter']} iters\")\n",
    "print(f\"Objective :{-sol['info']['pobj']}\")\n",
    "print(\"Optimal solution vector x*:\")\n",
    "print(sol[\"x\"])\n",
    "\n",
    "print(\"Optimal dual vector y*:\")\n",
    "print(sol[\"y\"])"
   ]
  },
  {
   "cell_type": "code",
   "execution_count": 12,
   "metadata": {},
   "outputs": [
    {
     "name": "stdout",
     "output_type": "stream",
     "text": [
      "Starting solution of the Linear programming problem using Primal Simplex\n",
      "\n",
      "Coin0506I Presolve 0 (-1) rows, 0 (-3) columns and 0 (-3) elements\n",
      "Clp0000I Optimal - objective value 10\n",
      "Coin0511I After Postsolve, objective 10, infeasibilities - dual 0 (0), primal 0 (0)\n",
      "Clp0032I Optimal objective 10 - 0 iterations time 0.002, Presolve 0.00, Idiot 0.00\n",
      "optimal cost 10.0\n",
      "x 5.0\n",
      "y 0.0\n",
      "z 0.0\n"
     ]
    }
   ],
   "source": [
    "n = 3\n",
    "\n",
    "xs = cp.Variable(n)\n",
    "x, y, z = xs\n",
    "constraints = []\n",
    "constraints += 2 * x + 3 * y + 4 * z <= 10,\n",
    "constraints += 2 * x,\n",
    "constraints += 2 * x + 3 * y + 4 * z <= 10,\n",
    "\n",
    "\n",
    "m = Model(sense=MAXIMIZE, solver_name=CBC)\n",
    "x = m.add_var(name='x')\n",
    "y = m.add_var(name='y')\n",
    "z = m.add_var(name='z')\n",
    "\n",
    "m += 2*x + 3*y + 4*z <= 10\n",
    "m.objective = maximize(2*x + 2*y + z)\n",
    "status = m.optimize(max_seconds=10)\n",
    "\n",
    "if status == OptimizationStatus.OPTIMAL:\n",
    "  print(f'optimal cost {m.objective_value}')\n",
    "  for v in m.vars:\n",
    "    print(f'{v.name} {v.x}')"
   ]
  },
  {
   "cell_type": "markdown",
   "metadata": {},
   "source": [
    "## 3. 整数最適化問題"
   ]
  },
  {
   "cell_type": "code",
   "execution_count": null,
   "metadata": {},
   "outputs": [
    {
     "name": "stdout",
     "output_type": "stream",
     "text": [
      "Starting solution of the Linear programming relaxation problem using Primal Simplex\n",
      "\n",
      "Coin0506I Presolve 2 (0) rows, 3 (0) columns and 6 (0) elements\n",
      "Clp1000I sum of infeasibilities 2.62338e-07 - average 1.31169e-07, 0 fixed columns\n",
      "Coin0506I Presolve 2 (0) rows, 3 (0) columns and 6 (0) elements\n",
      "Clp0006I 0  Obj 2.6666875 Dual inf 200 (2)\n",
      "Clp0029I End of values pass after 3 iterations\n",
      "Clp0000I Optimal - objective value 2.6666667\n",
      "Clp0000I Optimal - objective value 2.6666667\n",
      "Clp0000I Optimal - objective value 2.6666667\n",
      "Clp0032I Optimal objective 2.666666667 - 0 iterations time 0.002, Idiot 0.00\n",
      "\n",
      "Starting MIP optimization\n",
      "Cgl0003I 0 fixed, 1 tightened bounds, 0 strengthened rows, 0 substitutions\n",
      "Cgl0003I 0 fixed, 4 tightened bounds, 0 strengthened rows, 0 substitutions\n",
      "Cgl0003I 0 fixed, 2 tightened bounds, 0 strengthened rows, 0 substitutions\n",
      "Cgl0004I processed model has 2 rows, 3 columns (3 integer (0 of which binary)) and 6 elements\n",
      "Coin3009W Conflict graph built in 0.001 seconds, density: 0.000%\n",
      "Cgl0015I Clique Strengthening extended 0 cliques, 0 were dominated\n",
      "Cbc0045I Nauty did not find any useful orbits in time 3e-05\n",
      "Cbc0012I Integer solution of 4 found by DiveCoefficient after 0 iterations and 0 nodes (0.01 seconds)\n",
      "Cbc0006I The LP relaxation is infeasible or too expensive\n",
      "Cbc0013I At root node, 0 cuts changed objective from 2.6666667 to 2.6666667 in 1 passes\n",
      "Cbc0014I Cut generator 0 (Probing) - 1 row cuts average 0.0 elements, 1 column cuts (1 active)  in 0.000 seconds - new frequency is 1\n",
      "Cbc0014I Cut generator 1 (Gomory) - 0 row cuts average 0.0 elements, 0 column cuts (0 active)  in 0.000 seconds - new frequency is -100\n",
      "Cbc0014I Cut generator 2 (Knapsack) - 0 row cuts average 0.0 elements, 0 column cuts (0 active)  in 0.000 seconds - new frequency is -100\n",
      "Cbc0014I Cut generator 3 (Clique) - 0 row cuts average 0.0 elements, 0 column cuts (0 active)  in 0.000 seconds - new frequency is -100\n",
      "Cbc0014I Cut generator 4 (OddWheel) - 0 row cuts average 0.0 elements, 0 column cuts (0 active)  in 0.000 seconds - new frequency is -100\n",
      "Cbc0014I Cut generator 5 (MixedIntegerRounding2) - 0 row cuts average 0.0 elements, 0 column cuts (0 active)  in 0.000 seconds - new frequency is -100\n",
      "Cbc0014I Cut generator 6 (FlowCover) - 0 row cuts average 0.0 elements, 0 column cuts (0 active)  in 0.000 seconds - new frequency is -100\n",
      "Cbc0014I Cut generator 7 (TwoMirCuts) - 0 row cuts average 0.0 elements, 0 column cuts (0 active)  in 0.000 seconds - new frequency is -100\n",
      "Cbc0014I Cut generator 8 (ZeroHalf) - 0 row cuts average 0.0 elements, 0 column cuts (0 active)  in 0.000 seconds - new frequency is -100\n",
      "Cbc0001I Search completed - best objective 4, took 0 iterations and 0 nodes (0.01 seconds)\n",
      "Cbc0035I Maximum depth 0, 0 variables fixed on reduced cost\n",
      "Total time (CPU seconds):       0.00   (Wallclock seconds):       0.01\n",
      "\n",
      "optimal cost 4.0\n",
      "x 28.0\n",
      "y 2.0\n",
      "z 2.0\n"
     ]
    }
   ],
   "source": [
    "m = Model(sense=MINIMIZE, solver_name=CBC)\n",
    "x = m.add_var(name='x', var_type=INTEGER, lb=0)\n",
    "y = m.add_var(name='y', var_type=INTEGER, lb=0)\n",
    "z = m.add_var(name='z', var_type=INTEGER, lb=0)\n",
    "\n",
    "m += x + y + z == 32\n",
    "m += 2*x + 4*y + 8*z == 80\n",
    "m.objective = minimize(y + z)\n",
    "status = m.optimize(max_seconds=10)\n",
    "\n",
    "if status == OptimizationStatus.OPTIMAL:\n",
    "  print(f'optimal cost {m.objective_value}')\n",
    "  for v in m.vars:\n",
    "    print(f'{v.name} {v.x}')"
   ]
  },
  {
   "cell_type": "markdown",
   "metadata": {},
   "source": [
    "## 4. ロバスト最適化"
   ]
  },
  {
   "cell_type": "markdown",
   "metadata": {},
   "source": [
    "## 5. 栄養問題"
   ]
  },
  {
   "cell_type": "code",
   "execution_count": null,
   "metadata": {},
   "outputs": [
    {
     "name": "stdout",
     "output_type": "stream",
     "text": [
      "Starting solution of the Linear programming problem using Primal Simplex\n",
      "\n",
      "Coin0509I Presolve thinks problem is infeasible AND unbounded???\n",
      "Clp3003W Analysis indicates model infeasible or unbounded\n",
      "Clp0006I 0  Obj 1922.572 Primal inf 1.999998 (2) Dual inf 200 (2)\n",
      "Clp0029I End of values pass after 1 iterations\n",
      "Clp0001I Primal infeasible - objective value 6.25e+11\n",
      "Clp0032I PrimalInfeasible objective 6.25e+11 - 2 iterations time 0.002, Idiot 0.00\n"
     ]
    },
    {
     "data": {
      "text/plain": [
       "<OptimizationStatus.INFEASIBLE: 1>"
      ]
     },
     "metadata": {},
     "output_type": "display_data"
    },
    {
     "name": "stdout",
     "output_type": "stream",
     "text": [
      "Starting solution of the Linear programming problem using Dual Simplex\n",
      "\n",
      "Clp0006I 0  Obj 6.25e+11 Primal inf 1.999999 (1) Dual inf 200 (1)\n",
      "Clp0029I End of values pass after 0 iterations\n",
      "Clp0029I End of values pass after 0 iterations\n",
      "Clp0001I Primal infeasible - objective value 6.25e+13\n"
     ]
    },
    {
     "data": {
      "text/plain": [
       "<OptimizationStatus.INFEASIBLE: 1>"
      ]
     },
     "metadata": {},
     "output_type": "display_data"
    }
   ],
   "source": [
    "# 実行不能な例\n",
    "\n",
    "m = Model(sense=MAXIMIZE, solver_name=CBC)\n",
    "x1 = m.add_var(name='x1', var_type=CONTINUOUS, lb=0)\n",
    "x2 = m.add_var(name='x2', var_type=CONTINUOUS, lb=0)\n",
    "\n",
    "m += x1 - x2 <= -1\n",
    "m += -x1 + x2 <= -1\n",
    "\n",
    "# dual\n",
    "# minimize -(y1 + y2)\n",
    "# s.t.     y1 - y2 >= 1\n",
    "#          -y1 + y2 >= 1\n",
    "\n",
    "m.objective = maximize(x1+x2)\n",
    "status = m.optimize(max_seconds=10)\n",
    "display(status)\n",
    "\n",
    "m.lp_method = LP_Method.DUAL\n",
    "status = m.optimize(max_seconds=10)\n",
    "display(status)\n"
   ]
  },
  {
   "cell_type": "code",
   "execution_count": null,
   "metadata": {},
   "outputs": [
    {
     "name": "stdout",
     "output_type": "stream",
     "text": [
      "Starting solution of the Linear programming problem using Primal Simplex\n",
      "\n",
      "Coin0509I Presolve thinks problem is infeasible AND unbounded???\n",
      "Clp3003W Analysis indicates model infeasible or unbounded\n",
      "Clp1000I sum of infeasibilities 0 - average 0, 0 fixed columns\n",
      "Coin0508I Presolve thinks problem is unbounded\n",
      "Clp0006I 0  Obj 1311.7759 Dual inf 200 (2)\n",
      "Clp0029I End of values pass after 1 iterations\n",
      "Clp0029I End of values pass after 1 iterations\n",
      "Clp0029I End of values pass after 1 iterations\n",
      "Clp0029I End of values pass after 1 iterations\n",
      "Clp0000I Optimal - objective value 1312.7\n",
      "Clp0029I End of values pass after 0 iterations\n",
      "Clp0029I End of values pass after 0 iterations\n",
      "Clp0029I End of values pass after 0 iterations\n",
      "Clp0029I End of values pass after 0 iterations\n",
      "Clp0029I End of values pass after 0 iterations\n",
      "Clp0000I Optimal - objective value 1312.7\n",
      "Clp0029I End of values pass after 0 iterations\n",
      "Clp0029I End of values pass after 0 iterations\n",
      "Clp0029I End of values pass after 0 iterations\n",
      "Clp0029I End of values pass after 0 iterations\n",
      "Clp0029I End of values pass after 0 iterations\n",
      "Clp0000I Optimal - objective value 1312.7\n",
      "Clp0032I Optimal objective 1312.700004 - 0 iterations time 0.002, Idiot 0.00\n"
     ]
    },
    {
     "data": {
      "text/plain": [
       "<OptimizationStatus.OPTIMAL: 0>"
      ]
     },
     "metadata": {},
     "output_type": "display_data"
    },
    {
     "name": "stdout",
     "output_type": "stream",
     "text": [
      "Clp0006I 0  Obj 1 Dual inf 1.999999 (1)\n",
      "Clp0002I Dual infeasible - objective value 2e+10\n"
     ]
    },
    {
     "data": {
      "text/plain": [
       "<OptimizationStatus.UNBOUNDED: 2>"
      ]
     },
     "metadata": {},
     "output_type": "display_data"
    }
   ],
   "source": [
    "# 非有界な例\n",
    "\n",
    "m = Model(sense=MAXIMIZE, solver_name=CBC)\n",
    "x1 = m.add_var(name='x1', var_type=CONTINUOUS, lb=0)\n",
    "x2 = m.add_var(name='x2', var_type=CONTINUOUS, lb=0)\n",
    "\n",
    "# maximize x1 + x2\n",
    "m += x1 - x2 >= -1 # y1\n",
    "m += -x1 + x2 >= -1 # y2\n",
    "\n",
    "# minimize -(y1 + y2)\n",
    "# s.t.   y1 + -y2 <= 1 <-> -y1 + y2 >= 1\n",
    "#        -y1 + y2 <= 1\n",
    "\n",
    "m.objective = maximize(x1+x2)\n",
    "status = m.optimize(max_seconds=10)\n",
    "display(status)\n",
    "\n",
    "# 嘘｡双対問題は解いていない\n",
    "m.lp_method = LP_Method.DUAL\n",
    "status = m.optimize(max_seconds=10)\n",
    "display(status)\n"
   ]
  },
  {
   "cell_type": "code",
   "execution_count": null,
   "metadata": {},
   "outputs": [
    {
     "name": "stdout",
     "output_type": "stream",
     "text": [
      "[1, 2, 3, 4, 5] {1: 80, 2: 270, 3: 250, 4: 160, 5: 180}\n",
      "[1, 2, 3] {1: 500, 2: 800, 3: 500} {1: 600, 2: 500, 3: 100}\n"
     ]
    }
   ],
   "source": [
    "# https://scmopt.github.io/manual/15mypulp.html#multidict%E9%96%A2%E6%95%B0\n",
    "\n",
    "def multidict(d: dict):\n",
    "  ret = [list(d.keys())]\n",
    "  for k, arr in d.items():\n",
    "    if type(arr) is not list:\n",
    "      arr = [arr]\n",
    "    append_num = (1 + len(arr)) - len(ret)\n",
    "    if append_num > 0:\n",
    "      ret += [{} for _ in range(append_num)]\n",
    "\n",
    "    for i, val in enumerate(arr):\n",
    "      ret[i+1][k] = val\n",
    "\n",
    "  return ret\n",
    "\n",
    "I,d = multidict({1:80, 2:270, 3:250 , 4:160, 5:180})\n",
    "J,M,N = multidict({1:[500,600], 2:[800,500], 3:[500,100]})\n",
    "print(I,d)\n",
    "print(J,M,N)"
   ]
  },
  {
   "cell_type": "code",
   "execution_count": null,
   "metadata": {},
   "outputs": [],
   "source": [
    "F, c, n = multidict(\n",
    "    {\n",
    "        \"CQPounder\": [\n",
    "            360,\n",
    "            {\n",
    "                \"Cal\": 556,\n",
    "                \"Carbo\": 39,\n",
    "                \"Protein\": 30,\n",
    "                \"VitA\": 147,\n",
    "                \"VitC\": 10,\n",
    "                \"Calc\": 221,\n",
    "                \"Iron\": 2.4,\n",
    "            },\n",
    "        ],\n",
    "        \"Big M\": [\n",
    "            320,\n",
    "            {\n",
    "                \"Cal\": 556,\n",
    "                \"Carbo\": 46,\n",
    "                \"Protein\": 26,\n",
    "                \"VitA\": 97,\n",
    "                \"VitC\": 9,\n",
    "                \"Calc\": 142,\n",
    "                \"Iron\": 2.4,\n",
    "            },\n",
    "        ],\n",
    "        \"FFilet\": [\n",
    "            270,\n",
    "            {\n",
    "                \"Cal\": 356,\n",
    "                \"Carbo\": 42,\n",
    "                \"Protein\": 14,\n",
    "                \"VitA\": 28,\n",
    "                \"VitC\": 1,\n",
    "                \"Calc\": 76,\n",
    "                \"Iron\": 0.7,\n",
    "            },\n",
    "        ],\n",
    "        \"Chicken\": [\n",
    "            290,\n",
    "            {\n",
    "                \"Cal\": 431,\n",
    "                \"Carbo\": 45,\n",
    "                \"Protein\": 20,\n",
    "                \"VitA\": 9,\n",
    "                \"VitC\": 2,\n",
    "                \"Calc\": 37,\n",
    "                \"Iron\": 0.9,\n",
    "            },\n",
    "        ],\n",
    "        \"Fries\": [\n",
    "            190,\n",
    "            {\n",
    "                \"Cal\": 249,\n",
    "                \"Carbo\": 30,\n",
    "                \"Protein\": 3,\n",
    "                \"VitA\": 0,\n",
    "                \"VitC\": 5,\n",
    "                \"Calc\": 7,\n",
    "                \"Iron\": 0.6,\n",
    "            },\n",
    "        ],\n",
    "        \"Milk\": [\n",
    "            170,\n",
    "            {\n",
    "                \"Cal\": 138,\n",
    "                \"Carbo\": 10,\n",
    "                \"Protein\": 7,\n",
    "                \"VitA\": 80,\n",
    "                \"VitC\": 2,\n",
    "                \"Calc\": 227,\n",
    "                \"Iron\": 0,\n",
    "            },\n",
    "        ],\n",
    "        \"VegJuice\": [\n",
    "            100,\n",
    "            {\n",
    "                \"Cal\": 69,\n",
    "                \"Carbo\": 17,\n",
    "                \"Protein\": 1,\n",
    "                \"VitA\": 750,\n",
    "                \"VitC\": 2,\n",
    "                \"Calc\": 18,\n",
    "                \"Iron\": 0,\n",
    "            },\n",
    "        ],\n",
    "    }\n",
    ")\n",
    "N, a, b = multidict(\n",
    "    {\n",
    "        \"Cal\": [2000, 3000],\n",
    "        \"Carbo\": [300, 375],\n",
    "        \"Protein\": [50, 60],\n",
    "        \"VitA\": [500, 750],\n",
    "        \"VitC\": [85, 100],\n",
    "        \"Calc\": [660, 900],\n",
    "        \"Iron\": [6.0, 7.5],\n",
    "    }\n",
    ")"
   ]
  },
  {
   "cell_type": "code",
   "execution_count": null,
   "metadata": {},
   "outputs": [
    {
     "data": {
      "text/plain": [
       "360"
      ]
     },
     "execution_count": 15,
     "metadata": {},
     "output_type": "execute_result"
    }
   ],
   "source": [
    "c['CQPounder']"
   ]
  },
  {
   "cell_type": "code",
   "execution_count": null,
   "metadata": {},
   "outputs": [
    {
     "name": "stdout",
     "output_type": "stream",
     "text": [
      "Starting solution of the Linear programming problem using Dual Simplex\n",
      "\n",
      "Clp0024I Matrix will be packed to eliminate 6 small elements\n",
      "Coin0506I Presolve 14 (0) rows, 14 (-91) columns and 99 (-7) elements\n",
      "Clp0006I 0  Obj 0 Primal inf 26.359677 (7)\n",
      "Clp0000I Optimal - objective value 265119.19\n",
      "Coin0511I After Postsolve, objective 265119.19, infeasibilities - dual 0 (0), primal 0 (0)\n",
      "Clp0032I Optimal objective 265119.1876 - 6 iterations time 0.002, Presolve 0.00\n"
     ]
    },
    {
     "data": {
      "text/plain": [
       "<OptimizationStatus.OPTIMAL: 0>"
      ]
     },
     "metadata": {},
     "output_type": "display_data"
    },
    {
     "name": "stdout",
     "output_type": "stream",
     "text": [
      "optimal cost 265119.18759267527\n",
      "xCQPounder 0.013155307054176111\n",
      "xFries 10.42266450006435\n",
      "xMilk 2.5154631133990755\n",
      "xVegJuice 0.7291054943881469\n",
      "deficit of VitC =26.265987213562042\n"
     ]
    }
   ],
   "source": [
    "model = Model(sense=MINIMIZE, solver_name=CBC)\n",
    "x, s, d = {}, {}, {}\n",
    "for j in F:\n",
    "  x[j] = model.add_var(name=f'x{j}', var_type=CONTINUOUS, lb=0)\n",
    "  for i in N:\n",
    "    s[i] = model.add_var(name=f'surplus{i}', var_type=CONTINUOUS, lb=0)\n",
    "    d[i] = model.add_var(name=f'deficit{i}', var_type=CONTINUOUS, lb=0)\n",
    "\n",
    "for i in N:\n",
    "  model += xsum(n[j][i] * x[j] for j in F) >= a[i] - d[i]\n",
    "  model += xsum(n[j][i] * x[j] for j in F) <= b[i] - s[i]\n",
    "model.objective = minimize(xsum(c[j] * x[j] for j in F) + xsum(9999 * d[i] + 9999 * s[i] for i in N))\n",
    "status = model.optimize(max_seconds=10)\n",
    "display(status)\n",
    "\n",
    "if status == OptimizationStatus.OPTIMAL:\n",
    "  print(f'optimal cost {model.objective_value}')\n",
    "  for j in F:\n",
    "    if x[j].x > 0.:\n",
    "      print(x[j].name, x[j].x)\n",
    "\n",
    "  for i in N:\n",
    "      if d[i].x > 0:\n",
    "          print(f\"deficit of {i} ={d[i].x}\")\n",
    "      if s[i].x > 0:\n",
    "          print(\"surplus of {i} ={s[i].x}\")"
   ]
  },
  {
   "cell_type": "markdown",
   "metadata": {},
   "source": [
    "## 6. 混合問題"
   ]
  },
  {
   "cell_type": "code",
   "execution_count": null,
   "metadata": {},
   "outputs": [],
   "source": [
    "import cvxpy as cp\n",
    "import numpy as np\n",
    "\n",
    "def prodmix(I, K, a, p, epsilon, LB):\n",
    "    \"\"\"prodmix:  robust production planning using soco\n",
    "    Parameters:\n",
    "        I - set of materials\n",
    "        K - set of components\n",
    "        a[i][k] -  coef. matrix\n",
    "        p[i] - price of material i\n",
    "        LB[k] - amount needed for k\n",
    "    Returns a model, ready to be solved.\n",
    "    \"\"\"\n",
    "\n",
    "    xs = cp.Variable(len(I))\n",
    "    rhss = cp.Variable(len(K))\n",
    "    x, rhs = {}, {}\n",
    "    for idx,i in enumerate(I):\n",
    "        x[i] = xs[idx]\n",
    "    for idx,k in enumerate(K):\n",
    "        rhs[k] = rhss[idx]\n",
    "\n",
    "    constraints = []\n",
    "    constraints += (cp.sum(list(x.values())) == 1),\n",
    "\n",
    "    for k in K:\n",
    "        constraints += (rhs[k] == -LB[k] + cp.sum([a[i, k] * x[i] for i in I])),\n",
    "        constraints += cp.SOC(rhs[k], epsilon * xs),\n",
    "    for i in I:\n",
    "        constraints += (x[i] >= 0),\n",
    "\n",
    "    objective = cp.sum([p[i] * x[i] for i in I])\n",
    "    model = cp.Problem(cp.Minimize(objective), constraints)\n",
    "    return model\n",
    "\n",
    "\n",
    "def make_data():\n",
    "    a = {\n",
    "        (1, 1): 0.25,\n",
    "        (1, 2): 0.15,\n",
    "        (1, 3): 0.2,\n",
    "        (2, 1): 0.3,\n",
    "        (2, 2): 0.3,\n",
    "        (2, 3): 0.1,\n",
    "        (3, 1): 0.15,\n",
    "        (3, 2): 0.65,\n",
    "        (3, 3): 0.05,\n",
    "        (4, 1): 0.1,\n",
    "        (4, 2): 0.05,\n",
    "        (4, 3): 0.8,\n",
    "    }\n",
    "    epsilon = 0.01\n",
    "    I, p = multidict({1: 5, 2: 6, 3: 8, 4: 20})\n",
    "    K, LB = multidict({1: 0.2, 2: 0.3, 3: 0.2})\n",
    "    return I, K, a, p, epsilon, LB\n"
   ]
  },
  {
   "cell_type": "code",
   "execution_count": null,
   "metadata": {},
   "outputs": [
    {
     "name": "stdout",
     "output_type": "stream",
     "text": [
      "obj: 7.131578924156379\n",
      "obj: 7.478950128785509\n",
      "obj: 7.8627881093394425\n",
      "obj: 8.229077702597367\n",
      "obj: 8.792029443940345\n"
     ]
    },
    {
     "data": {
      "text/plain": [
       "<Axes: xlabel='epsilon', ylabel='objective'>"
      ]
     },
     "execution_count": 158,
     "metadata": {},
     "output_type": "execute_result"
    },
    {
     "data": {
      "image/png": "[encoded data removed]",
      "text/plain": [
       "<Figure size 640x480 with 1 Axes>"
      ]
     },
     "metadata": {},
     "output_type": "display_data"
    }
   ],
   "source": [
    "I, K, a, p, epsilon, LB = make_data()\n",
    "epsilons = []\n",
    "obj_list = []\n",
    "for i in range(5):\n",
    "    epsilon = i * 0.01\n",
    "    model = prodmix(I, K, a, p, epsilon, LB)\n",
    "    model.solve(verbose=False)\n",
    "    print(\"obj:\", model.value)\n",
    "    epsilons.append(epsilon)\n",
    "    obj_list.append(model.value)\n",
    "\n",
    "\n",
    "import pandas as pd\n",
    "# df = pd.Series(data=obj_list)\n",
    "# df.plot(xlabel='epsilon', ylabel='objective', marker='o')\n",
    "\n",
    "df = pd.Series(data=obj_list, index=epsilons)\n",
    "df.plot(xlabel='epsilon', ylabel='objective', marker='o')"
   ]
  }
 ],
 "metadata": {
  "kernelspec": {
   "display_name": ".venv",
   "language": "python",
   "name": "python3"
  },
  "language_info": {
   "codemirror_mode": {
    "name": "ipython",
    "version": 3
   },
   "file_extension": ".py",
   "mimetype": "text/x-python",
   "name": "python",
   "nbconvert_exporter": "python",
   "pygments_lexer": "ipython3",
   "version": "3.10.9"
  }
 },
 "nbformat": 4,
 "nbformat_minor": 2
}
